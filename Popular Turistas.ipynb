{
 "cells": [
  {
   "cell_type": "code",
   "execution_count": null,
   "metadata": {},
   "outputs": [],
   "source": [
    "import csv\n",
    "import os \n",
    "\n",
    "dir = './turistas'\n",
    "pattern = '.csv'\n",
    "saida = 'saida.sql' \n",
    "\n",
    "def lerArquivo(arquivo):\n",
    " with open(arquivo, encoding=\"latin-1\") as csvfile:\n",
    " readCSV = csv.reader(csvfile, delimiter=';')\n",
    " next(readCSV, None)\n",
    " retorno = [row for row in readCSV]\n",
    "return retorno \n",
    "\n",
    "\n",
    "def lerDiretorio(diretorio):\n",
    " paths = [os.path.join(diretorio, nome) for nome in os.listdir(diretorio)]\n",
    " arquivos = [arq for arq in paths if os.path.isfile(arq)]\n",
    " csvs = [arq for arq in arquivos if arq.lower().endswith(pattern)]\n",
    " return csvs \n",
    "\n",
    "\n",
    "def toSQL(lista):\n",
    " sql = \"insert into turistas (Continente, OrdemContinente, Pais, OrdemPais, UF, OrdemUF,\n",
    "Via, OrdemVia, Ano, Mes, OrdemMes, Chegadas) \"\n",
    " sql += \"values ('{}', {}, '{}', {}, '{}', {}, '{}', {}, {}, '{}', {}, {});\\r\\n\"\n",
    " retorno = [sql.format(linha[0], linha[1], linha[2], linha[3], linha[4], linha[5], linha[6], linha[7],\n",
    "linha[8], linha[9], linha[10], linha[11]) for linha in lista if linha[0] != '']\n",
    " return retorno \n",
    "\n",
    "if __name__ == \"__main__\":\n",
    " arqs = lerDiretorio(dir)\n",
    " if os.path.exists(saida):\n",
    "     os.remove(saida) \n",
    "\n",
    " arqsaida = open('saida.sql', 'w')\n",
    " for arq in arqs:\n",
    "linhas = toSQL(lerArquivo(arq))\n",
    "     arqsaida.writelines(linhas)\n",
    " arqsaida.close()\n",
    " print(\"Concluido.\")\n"
   ]
  }
 ],
 "metadata": {
  "kernelspec": {
   "display_name": "Python 3",
   "language": "python",
   "name": "python3"
  },
  "language_info": {
   "codemirror_mode": {
    "name": "ipython",
    "version": 3
   },
   "file_extension": ".py",
   "mimetype": "text/x-python",
   "name": "python",
   "nbconvert_exporter": "python",
   "pygments_lexer": "ipython3",
   "version": "3.8.3"
  }
 },
 "nbformat": 4,
 "nbformat_minor": 4
}
